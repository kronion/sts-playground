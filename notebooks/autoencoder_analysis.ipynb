{
 "cells": [
  {
   "cell_type": "code",
   "execution_count": 1,
   "id": "abdbf877",
   "metadata": {
    "collapsed": true
   },
   "outputs": [
    {
     "name": "stderr",
     "output_type": "stream",
     "text": [
      "2023-03-12 11:37:41.967163: I tensorflow/core/platform/cpu_feature_guard.cc:193] This TensorFlow binary is optimized with oneAPI Deep Neural Network Library (oneDNN) to use the following CPU instructions in performance-critical operations:  AVX2 FMA\n",
      "To enable them in other operations, rebuild TensorFlow with the appropriate compiler flags.\n",
      "/home/vlad/Repos/gym-sts/venv/lib/python3.9/site-packages/tensorflow/python/framework/dtypes.py:246: DeprecationWarning: `np.bool8` is a deprecated alias for `np.bool_`.  (Deprecated NumPy 1.24)\n",
      "  np.bool8: (False, True),\n",
      "2023-03-12 11:37:42.830713: W tensorflow/compiler/xla/stream_executor/platform/default/dso_loader.cc:64] Could not load dynamic library 'libnvinfer.so.7'; dlerror: libnvinfer.so.7: cannot open shared object file: No such file or directory\n",
      "2023-03-12 11:37:42.830763: W tensorflow/compiler/xla/stream_executor/platform/default/dso_loader.cc:64] Could not load dynamic library 'libnvinfer_plugin.so.7'; dlerror: libnvinfer_plugin.so.7: cannot open shared object file: No such file or directory\n",
      "2023-03-12 11:37:42.830768: W tensorflow/compiler/tf2tensorrt/utils/py_utils.cc:38] TF-TRT Warning: Cannot dlopen some TensorRT libraries. If you would like to use Nvidia GPU with TensorRT, please make sure the missing libraries mentioned above are installed properly.\n"
     ]
    }
   ],
   "source": [
    "import pickle\n",
    "import typing as tp\n",
    "\n",
    "import numpy as np\n",
    "import pandas as pd\n",
    "import tree\n",
    "import wandb\n",
    "\n",
    "from gym import spaces\n",
    "from gym_sts.envs import base\n",
    "from sts_playground import utils\n",
    "from sts_playground.autoencoder import tf_lib"
   ]
  },
  {
   "cell_type": "code",
   "execution_count": 2,
   "id": "897f297f",
   "metadata": {},
   "outputs": [
    {
     "name": "stderr",
     "output_type": "stream",
     "text": [
      "\u001b[34m\u001b[1mwandb\u001b[0m: Currently logged in as: \u001b[33mvladfi\u001b[0m. Use \u001b[1m`wandb login --relogin`\u001b[0m to force relogin\n"
     ]
    },
    {
     "data": {
      "text/plain": [
       "True"
      ]
     },
     "execution_count": 2,
     "metadata": {},
     "output_type": "execute_result"
    }
   ],
   "source": [
    "wandb.login()"
   ]
  },
  {
   "cell_type": "code",
   "execution_count": 4,
   "id": "0cad3d56",
   "metadata": {},
   "outputs": [],
   "source": [
    "api = wandb.Api()"
   ]
  },
  {
   "cell_type": "code",
   "execution_count": 5,
   "id": "863daff6",
   "metadata": {},
   "outputs": [],
   "source": [
    "run = api.run('sts-ai/autoencoder/v1b1a44w')"
   ]
  },
  {
   "cell_type": "code",
   "execution_count": 6,
   "id": "f292f287",
   "metadata": {},
   "outputs": [],
   "source": [
    "top1 = run.summary['validation']['top1']"
   ]
  },
  {
   "cell_type": "code",
   "execution_count": 7,
   "id": "4f07d1e6",
   "metadata": {},
   "outputs": [],
   "source": [
    "def to_dict(d) -> dict:\n",
    "    if isinstance(d, wandb.old.summary.SummarySubDict):\n",
    "        d = dict(d.items())\n",
    "    \n",
    "    if isinstance(d, (tp.Mapping, tp.Sequence)):\n",
    "        return tree.map_structure(to_dict, d)\n",
    "    \n",
    "    return d"
   ]
  },
  {
   "cell_type": "code",
   "execution_count": 9,
   "id": "d3f9a78a",
   "metadata": {},
   "outputs": [],
   "source": [
    "top1_dict = to_dict(top1)\n",
    "top1_dict = tf_lib.convert_lists(top1_dict)"
   ]
  },
  {
   "cell_type": "code",
   "execution_count": 10,
   "id": "4bb9f9db",
   "metadata": {},
   "outputs": [],
   "source": [
    "with open('../data/state_action_triples_100k.pkl', 'rb') as f:\n",
    "    states = pickle.load(f)\n",
    "\n",
    "states = states['state_before']"
   ]
  },
  {
   "cell_type": "code",
   "execution_count": 11,
   "id": "06b3c850",
   "metadata": {},
   "outputs": [],
   "source": [
    "states = tf_lib.convert_lists(states)"
   ]
  },
  {
   "cell_type": "code",
   "execution_count": 12,
   "id": "faab04ba",
   "metadata": {},
   "outputs": [],
   "source": [
    "obs_space = tf_lib.space_as_nest(base.OBSERVATION_SPACE)\n",
    "tree.assert_same_structure(states, obs_space)"
   ]
  },
  {
   "cell_type": "code",
   "execution_count": 13,
   "id": "474b3264",
   "metadata": {},
   "outputs": [],
   "source": [
    "def one_hot_np(xs, n):\n",
    "    flat_xs = xs.reshape([-1])\n",
    "    flat_one_hot = np.eye(n)[flat_xs]\n",
    "    new_shape = xs.shape + (n,)\n",
    "    return flat_one_hot.reshape(new_shape)\n",
    "\n",
    "\n",
    "def discrete_mean_accuracy(xs, n):\n",
    "    xs = one_hot_np(xs, n)\n",
    "    ps = np.mean(xs, 0)\n",
    "    return np.max(ps, -1)\n",
    "    # return scipy.stats.entropy(ps)\n",
    "    \n",
    "\n",
    "def mean_accuracy(space, xs):\n",
    "    if isinstance(space, spaces.Discrete):\n",
    "        assert len(xs.shape) == 1\n",
    "        return discrete_mean_accuracy(xs, space.n)\n",
    "\n",
    "    if isinstance(space, spaces.MultiBinary):\n",
    "        assert xs.shape[-1] == space.n\n",
    "        assert len(xs.shape) == 2\n",
    "        ps = np.mean(xs, 0)\n",
    "        acc = np.maximum(ps, 1.0 - ps)\n",
    "        return np.mean(acc)\n",
    "\n",
    "    if isinstance(space, spaces.MultiDiscrete):\n",
    "        assert len(xs.shape) == 2\n",
    "        num_components = space.nvec.shape[0]\n",
    "        assert xs.shape[-1] == num_components\n",
    "\n",
    "        n = space.nvec[0]\n",
    "        if np.all(space.nvec == n):\n",
    "            # If all the Discrete's are the same size, we can avoid the expensive\n",
    "            # unstack and do a reshape instead.\n",
    "            acc = discrete_mean_accuracy(xs, n)\n",
    "            assert acc.shape == (num_components,)\n",
    "            return np.mean(acc)\n",
    "        \n",
    "        raise NotImplementedError()\n",
    "\n",
    "        losses = []\n",
    "        logits = tf.split(x, tuple(space.nvec), axis=-1)\n",
    "        for x_, y_ in zip(logits, tf.unstack(y, axis=-1)):\n",
    "            losses.append(discrete_accuracy(x_, y_))\n",
    "        loss = tf.stack(losses, axis=-1)\n",
    "        return tf.reduce_mean(loss, axis=-1)\n"
   ]
  },
  {
   "cell_type": "code",
   "execution_count": 14,
   "id": "1812f048",
   "metadata": {},
   "outputs": [],
   "source": [
    "mean_acc = tree.map_structure(mean_accuracy, obs_space, states)"
   ]
  },
  {
   "cell_type": "code",
   "execution_count": 15,
   "id": "130ee018",
   "metadata": {},
   "outputs": [],
   "source": [
    "del states"
   ]
  },
  {
   "cell_type": "code",
   "execution_count": 16,
   "id": "edfd12e7",
   "metadata": {},
   "outputs": [],
   "source": [
    "def path_to_str(path: tuple) -> str:\n",
    "    return '.'.join(map(str, path))\n",
    "\n",
    "def df_from_structs(**structs):\n",
    "    columns = {}\n",
    "    \n",
    "    structs = list(structs.items())\n",
    "    first_struct = structs[0][1]\n",
    "    \n",
    "    paths, _ = zip(*tree.flatten_with_path(first_struct))\n",
    "    columns['path'] = list(map(path_to_str, paths))\n",
    "\n",
    "    for name, struct in structs:\n",
    "        tree.assert_same_structure(struct, first_struct)\n",
    "        columns[name] = tree.flatten(struct)\n",
    "\n",
    "    return pd.DataFrame(columns)"
   ]
  },
  {
   "cell_type": "code",
   "execution_count": 17,
   "id": "4ec3325e",
   "metadata": {},
   "outputs": [],
   "source": [
    "df = df_from_structs(top1=top1_dict, baseline=mean_acc)\n",
    "df['improvement'] = df['top1'] - df['baseline']"
   ]
  },
  {
   "cell_type": "code",
   "execution_count": 18,
   "id": "16d055a5",
   "metadata": {},
   "outputs": [
    {
     "data": {
      "text/html": [
       "<div>\n",
       "<style scoped>\n",
       "    .dataframe tbody tr th:only-of-type {\n",
       "        vertical-align: middle;\n",
       "    }\n",
       "\n",
       "    .dataframe tbody tr th {\n",
       "        vertical-align: top;\n",
       "    }\n",
       "\n",
       "    .dataframe thead th {\n",
       "        text-align: right;\n",
       "    }\n",
       "</style>\n",
       "<table border=\"1\" class=\"dataframe\">\n",
       "  <thead>\n",
       "    <tr style=\"text-align: right;\">\n",
       "      <th></th>\n",
       "      <th>path</th>\n",
       "      <th>top1</th>\n",
       "      <th>baseline</th>\n",
       "      <th>improvement</th>\n",
       "    </tr>\n",
       "  </thead>\n",
       "  <tbody>\n",
       "    <tr>\n",
       "      <th>678</th>\n",
       "      <td>combat_state.enemies.0.id</td>\n",
       "      <td>0.369900</td>\n",
       "      <td>0.380915</td>\n",
       "      <td>-0.011014</td>\n",
       "    </tr>\n",
       "    <tr>\n",
       "      <th>2357</th>\n",
       "      <td>persistent_state.map.boss</td>\n",
       "      <td>0.452691</td>\n",
       "      <td>0.451599</td>\n",
       "      <td>0.001092</td>\n",
       "    </tr>\n",
       "    <tr>\n",
       "      <th>2359</th>\n",
       "      <td>persistent_state.map.nodes</td>\n",
       "      <td>0.453787</td>\n",
       "      <td>0.451678</td>\n",
       "      <td>0.002109</td>\n",
       "    </tr>\n",
       "    <tr>\n",
       "      <th>2555</th>\n",
       "      <td>persistent_state.screen_type</td>\n",
       "      <td>0.623481</td>\n",
       "      <td>0.615430</td>\n",
       "      <td>0.008051</td>\n",
       "    </tr>\n",
       "    <tr>\n",
       "      <th>2334</th>\n",
       "      <td>combat_state.hand.3.is_playable</td>\n",
       "      <td>0.639648</td>\n",
       "      <td>0.648695</td>\n",
       "      <td>-0.009047</td>\n",
       "    </tr>\n",
       "    <tr>\n",
       "      <th>679</th>\n",
       "      <td>combat_state.enemies.0.intent</td>\n",
       "      <td>0.646701</td>\n",
       "      <td>0.388307</td>\n",
       "      <td>0.258395</td>\n",
       "    </tr>\n",
       "    <tr>\n",
       "      <th>1007</th>\n",
       "      <td>combat_state.enemies.1.id</td>\n",
       "      <td>0.702474</td>\n",
       "      <td>0.702528</td>\n",
       "      <td>-0.000054</td>\n",
       "    </tr>\n",
       "    <tr>\n",
       "      <th>1008</th>\n",
       "      <td>combat_state.enemies.1.intent</td>\n",
       "      <td>0.707465</td>\n",
       "      <td>0.706224</td>\n",
       "      <td>0.001241</td>\n",
       "    </tr>\n",
       "    <tr>\n",
       "      <th>2354</th>\n",
       "      <td>persistent_state.health.hp</td>\n",
       "      <td>0.715473</td>\n",
       "      <td>0.704879</td>\n",
       "      <td>0.010594</td>\n",
       "    </tr>\n",
       "    <tr>\n",
       "      <th>2329</th>\n",
       "      <td>combat_state.hand.1.card</td>\n",
       "      <td>0.737283</td>\n",
       "      <td>0.737389</td>\n",
       "      <td>-0.000106</td>\n",
       "    </tr>\n",
       "    <tr>\n",
       "      <th>2353</th>\n",
       "      <td>persistent_state.gold</td>\n",
       "      <td>0.753762</td>\n",
       "      <td>0.766529</td>\n",
       "      <td>-0.012768</td>\n",
       "    </tr>\n",
       "    <tr>\n",
       "      <th>2352</th>\n",
       "      <td>persistent_state.floor</td>\n",
       "      <td>0.756872</td>\n",
       "      <td>0.765688</td>\n",
       "      <td>-0.008816</td>\n",
       "    </tr>\n",
       "    <tr>\n",
       "      <th>2327</th>\n",
       "      <td>combat_state.hand.0.card</td>\n",
       "      <td>0.760449</td>\n",
       "      <td>0.735262</td>\n",
       "      <td>0.025187</td>\n",
       "    </tr>\n",
       "    <tr>\n",
       "      <th>2358</th>\n",
       "      <td>persistent_state.map.edges</td>\n",
       "      <td>0.760716</td>\n",
       "      <td>0.760728</td>\n",
       "      <td>-0.000012</td>\n",
       "    </tr>\n",
       "    <tr>\n",
       "      <th>2332</th>\n",
       "      <td>combat_state.hand.2.is_playable</td>\n",
       "      <td>0.788520</td>\n",
       "      <td>0.531611</td>\n",
       "      <td>0.256909</td>\n",
       "    </tr>\n",
       "    <tr>\n",
       "      <th>2336</th>\n",
       "      <td>combat_state.hand.4.is_playable</td>\n",
       "      <td>0.793620</td>\n",
       "      <td>0.801652</td>\n",
       "      <td>-0.008032</td>\n",
       "    </tr>\n",
       "    <tr>\n",
       "      <th>2331</th>\n",
       "      <td>combat_state.hand.2.card</td>\n",
       "      <td>0.803320</td>\n",
       "      <td>0.758395</td>\n",
       "      <td>0.044926</td>\n",
       "    </tr>\n",
       "    <tr>\n",
       "      <th>677</th>\n",
       "      <td>combat_state.enemies.0.health.max_hp</td>\n",
       "      <td>0.808963</td>\n",
       "      <td>0.813712</td>\n",
       "      <td>-0.004750</td>\n",
       "    </tr>\n",
       "    <tr>\n",
       "      <th>2333</th>\n",
       "      <td>combat_state.hand.3.card</td>\n",
       "      <td>0.816005</td>\n",
       "      <td>0.822190</td>\n",
       "      <td>-0.006185</td>\n",
       "    </tr>\n",
       "    <tr>\n",
       "      <th>2325</th>\n",
       "      <td>combat_state.energy</td>\n",
       "      <td>0.821099</td>\n",
       "      <td>0.823322</td>\n",
       "      <td>-0.002223</td>\n",
       "    </tr>\n",
       "  </tbody>\n",
       "</table>\n",
       "</div>"
      ],
      "text/plain": [
       "                                      path      top1  baseline  improvement\n",
       "678              combat_state.enemies.0.id  0.369900  0.380915    -0.011014\n",
       "2357             persistent_state.map.boss  0.452691  0.451599     0.001092\n",
       "2359            persistent_state.map.nodes  0.453787  0.451678     0.002109\n",
       "2555          persistent_state.screen_type  0.623481  0.615430     0.008051\n",
       "2334       combat_state.hand.3.is_playable  0.639648  0.648695    -0.009047\n",
       "679          combat_state.enemies.0.intent  0.646701  0.388307     0.258395\n",
       "1007             combat_state.enemies.1.id  0.702474  0.702528    -0.000054\n",
       "1008         combat_state.enemies.1.intent  0.707465  0.706224     0.001241\n",
       "2354            persistent_state.health.hp  0.715473  0.704879     0.010594\n",
       "2329              combat_state.hand.1.card  0.737283  0.737389    -0.000106\n",
       "2353                 persistent_state.gold  0.753762  0.766529    -0.012768\n",
       "2352                persistent_state.floor  0.756872  0.765688    -0.008816\n",
       "2327              combat_state.hand.0.card  0.760449  0.735262     0.025187\n",
       "2358            persistent_state.map.edges  0.760716  0.760728    -0.000012\n",
       "2332       combat_state.hand.2.is_playable  0.788520  0.531611     0.256909\n",
       "2336       combat_state.hand.4.is_playable  0.793620  0.801652    -0.008032\n",
       "2331              combat_state.hand.2.card  0.803320  0.758395     0.044926\n",
       "677   combat_state.enemies.0.health.max_hp  0.808963  0.813712    -0.004750\n",
       "2333              combat_state.hand.3.card  0.816005  0.822190    -0.006185\n",
       "2325                   combat_state.energy  0.821099  0.823322    -0.002223"
      ]
     },
     "execution_count": 18,
     "metadata": {},
     "output_type": "execute_result"
    }
   ],
   "source": [
    "df.sort_values('top1').head(20)"
   ]
  },
  {
   "cell_type": "code",
   "execution_count": null,
   "id": "8ad1566e",
   "metadata": {},
   "outputs": [],
   "source": []
  }
 ],
 "metadata": {
  "kernelspec": {
   "display_name": "Python 3 (ipykernel)",
   "language": "python",
   "name": "python3"
  },
  "language_info": {
   "codemirror_mode": {
    "name": "ipython",
    "version": 3
   },
   "file_extension": ".py",
   "mimetype": "text/x-python",
   "name": "python",
   "nbconvert_exporter": "python",
   "pygments_lexer": "ipython3",
   "version": "3.9.5"
  }
 },
 "nbformat": 4,
 "nbformat_minor": 5
}
